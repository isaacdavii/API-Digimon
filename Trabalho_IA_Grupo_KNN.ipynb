{
  "nbformat": 4,
  "nbformat_minor": 0,
  "metadata": {
    "colab": {
      "provenance": [],
      "mount_file_id": "1PdCb2JBa5vm0BOHRup3OxVzdtEegDVqM",
      "authorship_tag": "ABX9TyNJ7MKr4tAfIvTeV/RUdxKq",
      "include_colab_link": true
    },
    "kernelspec": {
      "name": "python3",
      "display_name": "Python 3"
    },
    "language_info": {
      "name": "python"
    }
  },
  "cells": [
    {
      "cell_type": "markdown",
      "metadata": {
        "id": "view-in-github",
        "colab_type": "text"
      },
      "source": [
        "<a href=\"https://colab.research.google.com/github/isaacdavii/API-Digimon/blob/main/Trabalho_IA_Grupo_KNN.ipynb\" target=\"_parent\"><img src=\"https://colab.research.google.com/assets/colab-badge.svg\" alt=\"Open In Colab\"/></a>"
      ]
    },
    {
      "cell_type": "markdown",
      "source": [
        "# Trabalho da disciplina de IA\n",
        "\n",
        "---\n",
        "\n",
        "### Professora:\n",
        "*   Isabela Neves Drummond\n",
        "\n",
        "### Alunos:\n",
        "* Isaac Davi Mendonça Viana - 2023000650\n",
        "* Kaio Magno Cezário de Cássio - 2023007650\n",
        "* Marcos Eduardo Alves de Souza - 2023010155\n",
        "* Pedro Paulo Araujo Carvalho - 2023000909\n",
        "* Samuel Guedes Nascimento - 2023012991\n",
        "\n",
        "---\n",
        "\n",
        "\n",
        "```\n",
        "Data da apresentação 18/06/24\n",
        "```\n"
      ],
      "metadata": {
        "id": "1wSHezMtd3Py"
      }
    },
    {
      "cell_type": "markdown",
      "source": [
        "O conjunto de dados utilizado neste notebook é traz informações sobre apartamentos de Moscou. O objetivo é, a partir dos dados dos apartamentos, definir se ele é um imóvel `novo` ou `não`.\n",
        "\n",
        " Atributos dos dados:\n",
        "\n",
        "- min_metro: Minutos do apartamento até o metrô mais próximo\n",
        "- area_total: Área construída do imóvel\n",
        "- area_util: Área utilizável do imóvel\n",
        "- andar: Andar em que se encontra o imóvel\n",
        "- pe_direito: Altura do piso ao teto do imóvel\n",
        "- numero_comodos: Quantidade de cômodos\n",
        "- novo: Indica se o apartamento é novo (1) ou não (0)\n",
        "\n",
        "O conjunto de dados foi importado pelo Google Drive e sua carga é feita em um DataFrame Pandas."
      ],
      "metadata": {
        "id": "HZXtpQDhd6Nu"
      }
    },
    {
      "cell_type": "markdown",
      "source": [
        "### Passos para a Análise\n",
        "1. Importar as Bibliotecas Necessárias\n",
        "2. Carregar e Preparar os Dados\n",
        "3. Dividir os Dados em Conjunto de Treinamento e Teste\n",
        "4. Treinar o Modelo KNN\n",
        "5. Fazer Previsões\n",
        "6. Avaliar o Modelo\n",
        "7. Visualizar os Resultados"
      ],
      "metadata": {
        "id": "HIyMtOsTlmrr"
      }
    },
    {
      "cell_type": "markdown",
      "source": [
        "### Importando as bibliotecas"
      ],
      "metadata": {
        "id": "940rsi16luQo"
      }
    },
    {
      "cell_type": "code",
      "execution_count": 1,
      "metadata": {
        "id": "90IX9st9d0Hg"
      },
      "outputs": [],
      "source": [
        "import pandas as pd\n",
        "from sklearn.model_selection import train_test_split\n",
        "from sklearn.neighbors import KNeighborsClassifier\n",
        "from sklearn.metrics import accuracy_score, classification_report\n",
        "import matplotlib.pyplot as plt\n",
        "import seaborn as sns"
      ]
    },
    {
      "cell_type": "markdown",
      "source": [
        "### Carregando e preparando os dados"
      ],
      "metadata": {
        "id": "BU4Hvb41mNIh"
      }
    },
    {
      "cell_type": "code",
      "source": [
        "df = pd.read_csv('/content/drive/MyDrive/Colab Notebooks/Trabalho_IA_Isabela/apartamentos.csv')\n",
        "df.head()"
      ],
      "metadata": {
        "colab": {
          "base_uri": "https://localhost:8080/",
          "height": 206
        },
        "id": "fSbFs7UNmQNp",
        "outputId": "aad7272c-5ec1-4b0d-e07a-9c4f31ada2e3"
      },
      "execution_count": 2,
      "outputs": [
        {
          "output_type": "execute_result",
          "data": {
            "text/plain": [
              "   min_metro  area_total  area_util  andar  novo  pe_direito  numero_comodos\n",
              "0       24.0       64.20       32.4   11.0   1.0        3.15             2.0\n",
              "1        5.0       72.40       33.6    3.0   1.0        3.15             2.0\n",
              "2       27.0       66.90       24.8    9.0   1.0        3.00             2.0\n",
              "3       20.0       66.00       29.9    8.0   1.0        3.00             2.0\n",
              "4        5.0       65.55       34.4   26.0   1.0        2.87             2.0"
            ],
            "text/html": [
              "\n",
              "  <div id=\"df-f1341166-9648-4747-9881-b97b90ac5ef1\" class=\"colab-df-container\">\n",
              "    <div>\n",
              "<style scoped>\n",
              "    .dataframe tbody tr th:only-of-type {\n",
              "        vertical-align: middle;\n",
              "    }\n",
              "\n",
              "    .dataframe tbody tr th {\n",
              "        vertical-align: top;\n",
              "    }\n",
              "\n",
              "    .dataframe thead th {\n",
              "        text-align: right;\n",
              "    }\n",
              "</style>\n",
              "<table border=\"1\" class=\"dataframe\">\n",
              "  <thead>\n",
              "    <tr style=\"text-align: right;\">\n",
              "      <th></th>\n",
              "      <th>min_metro</th>\n",
              "      <th>area_total</th>\n",
              "      <th>area_util</th>\n",
              "      <th>andar</th>\n",
              "      <th>novo</th>\n",
              "      <th>pe_direito</th>\n",
              "      <th>numero_comodos</th>\n",
              "    </tr>\n",
              "  </thead>\n",
              "  <tbody>\n",
              "    <tr>\n",
              "      <th>0</th>\n",
              "      <td>24.0</td>\n",
              "      <td>64.20</td>\n",
              "      <td>32.4</td>\n",
              "      <td>11.0</td>\n",
              "      <td>1.0</td>\n",
              "      <td>3.15</td>\n",
              "      <td>2.0</td>\n",
              "    </tr>\n",
              "    <tr>\n",
              "      <th>1</th>\n",
              "      <td>5.0</td>\n",
              "      <td>72.40</td>\n",
              "      <td>33.6</td>\n",
              "      <td>3.0</td>\n",
              "      <td>1.0</td>\n",
              "      <td>3.15</td>\n",
              "      <td>2.0</td>\n",
              "    </tr>\n",
              "    <tr>\n",
              "      <th>2</th>\n",
              "      <td>27.0</td>\n",
              "      <td>66.90</td>\n",
              "      <td>24.8</td>\n",
              "      <td>9.0</td>\n",
              "      <td>1.0</td>\n",
              "      <td>3.00</td>\n",
              "      <td>2.0</td>\n",
              "    </tr>\n",
              "    <tr>\n",
              "      <th>3</th>\n",
              "      <td>20.0</td>\n",
              "      <td>66.00</td>\n",
              "      <td>29.9</td>\n",
              "      <td>8.0</td>\n",
              "      <td>1.0</td>\n",
              "      <td>3.00</td>\n",
              "      <td>2.0</td>\n",
              "    </tr>\n",
              "    <tr>\n",
              "      <th>4</th>\n",
              "      <td>5.0</td>\n",
              "      <td>65.55</td>\n",
              "      <td>34.4</td>\n",
              "      <td>26.0</td>\n",
              "      <td>1.0</td>\n",
              "      <td>2.87</td>\n",
              "      <td>2.0</td>\n",
              "    </tr>\n",
              "  </tbody>\n",
              "</table>\n",
              "</div>\n",
              "    <div class=\"colab-df-buttons\">\n",
              "\n",
              "  <div class=\"colab-df-container\">\n",
              "    <button class=\"colab-df-convert\" onclick=\"convertToInteractive('df-f1341166-9648-4747-9881-b97b90ac5ef1')\"\n",
              "            title=\"Convert this dataframe to an interactive table.\"\n",
              "            style=\"display:none;\">\n",
              "\n",
              "  <svg xmlns=\"http://www.w3.org/2000/svg\" height=\"24px\" viewBox=\"0 -960 960 960\">\n",
              "    <path d=\"M120-120v-720h720v720H120Zm60-500h600v-160H180v160Zm220 220h160v-160H400v160Zm0 220h160v-160H400v160ZM180-400h160v-160H180v160Zm440 0h160v-160H620v160ZM180-180h160v-160H180v160Zm440 0h160v-160H620v160Z\"/>\n",
              "  </svg>\n",
              "    </button>\n",
              "\n",
              "  <style>\n",
              "    .colab-df-container {\n",
              "      display:flex;\n",
              "      gap: 12px;\n",
              "    }\n",
              "\n",
              "    .colab-df-convert {\n",
              "      background-color: #E8F0FE;\n",
              "      border: none;\n",
              "      border-radius: 50%;\n",
              "      cursor: pointer;\n",
              "      display: none;\n",
              "      fill: #1967D2;\n",
              "      height: 32px;\n",
              "      padding: 0 0 0 0;\n",
              "      width: 32px;\n",
              "    }\n",
              "\n",
              "    .colab-df-convert:hover {\n",
              "      background-color: #E2EBFA;\n",
              "      box-shadow: 0px 1px 2px rgba(60, 64, 67, 0.3), 0px 1px 3px 1px rgba(60, 64, 67, 0.15);\n",
              "      fill: #174EA6;\n",
              "    }\n",
              "\n",
              "    .colab-df-buttons div {\n",
              "      margin-bottom: 4px;\n",
              "    }\n",
              "\n",
              "    [theme=dark] .colab-df-convert {\n",
              "      background-color: #3B4455;\n",
              "      fill: #D2E3FC;\n",
              "    }\n",
              "\n",
              "    [theme=dark] .colab-df-convert:hover {\n",
              "      background-color: #434B5C;\n",
              "      box-shadow: 0px 1px 3px 1px rgba(0, 0, 0, 0.15);\n",
              "      filter: drop-shadow(0px 1px 2px rgba(0, 0, 0, 0.3));\n",
              "      fill: #FFFFFF;\n",
              "    }\n",
              "  </style>\n",
              "\n",
              "    <script>\n",
              "      const buttonEl =\n",
              "        document.querySelector('#df-f1341166-9648-4747-9881-b97b90ac5ef1 button.colab-df-convert');\n",
              "      buttonEl.style.display =\n",
              "        google.colab.kernel.accessAllowed ? 'block' : 'none';\n",
              "\n",
              "      async function convertToInteractive(key) {\n",
              "        const element = document.querySelector('#df-f1341166-9648-4747-9881-b97b90ac5ef1');\n",
              "        const dataTable =\n",
              "          await google.colab.kernel.invokeFunction('convertToInteractive',\n",
              "                                                    [key], {});\n",
              "        if (!dataTable) return;\n",
              "\n",
              "        const docLinkHtml = 'Like what you see? Visit the ' +\n",
              "          '<a target=\"_blank\" href=https://colab.research.google.com/notebooks/data_table.ipynb>data table notebook</a>'\n",
              "          + ' to learn more about interactive tables.';\n",
              "        element.innerHTML = '';\n",
              "        dataTable['output_type'] = 'display_data';\n",
              "        await google.colab.output.renderOutput(dataTable, element);\n",
              "        const docLink = document.createElement('div');\n",
              "        docLink.innerHTML = docLinkHtml;\n",
              "        element.appendChild(docLink);\n",
              "      }\n",
              "    </script>\n",
              "  </div>\n",
              "\n",
              "\n",
              "<div id=\"df-7430310b-3123-4991-8637-88c22a5b77b1\">\n",
              "  <button class=\"colab-df-quickchart\" onclick=\"quickchart('df-7430310b-3123-4991-8637-88c22a5b77b1')\"\n",
              "            title=\"Suggest charts\"\n",
              "            style=\"display:none;\">\n",
              "\n",
              "<svg xmlns=\"http://www.w3.org/2000/svg\" height=\"24px\"viewBox=\"0 0 24 24\"\n",
              "     width=\"24px\">\n",
              "    <g>\n",
              "        <path d=\"M19 3H5c-1.1 0-2 .9-2 2v14c0 1.1.9 2 2 2h14c1.1 0 2-.9 2-2V5c0-1.1-.9-2-2-2zM9 17H7v-7h2v7zm4 0h-2V7h2v10zm4 0h-2v-4h2v4z\"/>\n",
              "    </g>\n",
              "</svg>\n",
              "  </button>\n",
              "\n",
              "<style>\n",
              "  .colab-df-quickchart {\n",
              "      --bg-color: #E8F0FE;\n",
              "      --fill-color: #1967D2;\n",
              "      --hover-bg-color: #E2EBFA;\n",
              "      --hover-fill-color: #174EA6;\n",
              "      --disabled-fill-color: #AAA;\n",
              "      --disabled-bg-color: #DDD;\n",
              "  }\n",
              "\n",
              "  [theme=dark] .colab-df-quickchart {\n",
              "      --bg-color: #3B4455;\n",
              "      --fill-color: #D2E3FC;\n",
              "      --hover-bg-color: #434B5C;\n",
              "      --hover-fill-color: #FFFFFF;\n",
              "      --disabled-bg-color: #3B4455;\n",
              "      --disabled-fill-color: #666;\n",
              "  }\n",
              "\n",
              "  .colab-df-quickchart {\n",
              "    background-color: var(--bg-color);\n",
              "    border: none;\n",
              "    border-radius: 50%;\n",
              "    cursor: pointer;\n",
              "    display: none;\n",
              "    fill: var(--fill-color);\n",
              "    height: 32px;\n",
              "    padding: 0;\n",
              "    width: 32px;\n",
              "  }\n",
              "\n",
              "  .colab-df-quickchart:hover {\n",
              "    background-color: var(--hover-bg-color);\n",
              "    box-shadow: 0 1px 2px rgba(60, 64, 67, 0.3), 0 1px 3px 1px rgba(60, 64, 67, 0.15);\n",
              "    fill: var(--button-hover-fill-color);\n",
              "  }\n",
              "\n",
              "  .colab-df-quickchart-complete:disabled,\n",
              "  .colab-df-quickchart-complete:disabled:hover {\n",
              "    background-color: var(--disabled-bg-color);\n",
              "    fill: var(--disabled-fill-color);\n",
              "    box-shadow: none;\n",
              "  }\n",
              "\n",
              "  .colab-df-spinner {\n",
              "    border: 2px solid var(--fill-color);\n",
              "    border-color: transparent;\n",
              "    border-bottom-color: var(--fill-color);\n",
              "    animation:\n",
              "      spin 1s steps(1) infinite;\n",
              "  }\n",
              "\n",
              "  @keyframes spin {\n",
              "    0% {\n",
              "      border-color: transparent;\n",
              "      border-bottom-color: var(--fill-color);\n",
              "      border-left-color: var(--fill-color);\n",
              "    }\n",
              "    20% {\n",
              "      border-color: transparent;\n",
              "      border-left-color: var(--fill-color);\n",
              "      border-top-color: var(--fill-color);\n",
              "    }\n",
              "    30% {\n",
              "      border-color: transparent;\n",
              "      border-left-color: var(--fill-color);\n",
              "      border-top-color: var(--fill-color);\n",
              "      border-right-color: var(--fill-color);\n",
              "    }\n",
              "    40% {\n",
              "      border-color: transparent;\n",
              "      border-right-color: var(--fill-color);\n",
              "      border-top-color: var(--fill-color);\n",
              "    }\n",
              "    60% {\n",
              "      border-color: transparent;\n",
              "      border-right-color: var(--fill-color);\n",
              "    }\n",
              "    80% {\n",
              "      border-color: transparent;\n",
              "      border-right-color: var(--fill-color);\n",
              "      border-bottom-color: var(--fill-color);\n",
              "    }\n",
              "    90% {\n",
              "      border-color: transparent;\n",
              "      border-bottom-color: var(--fill-color);\n",
              "    }\n",
              "  }\n",
              "</style>\n",
              "\n",
              "  <script>\n",
              "    async function quickchart(key) {\n",
              "      const quickchartButtonEl =\n",
              "        document.querySelector('#' + key + ' button');\n",
              "      quickchartButtonEl.disabled = true;  // To prevent multiple clicks.\n",
              "      quickchartButtonEl.classList.add('colab-df-spinner');\n",
              "      try {\n",
              "        const charts = await google.colab.kernel.invokeFunction(\n",
              "            'suggestCharts', [key], {});\n",
              "      } catch (error) {\n",
              "        console.error('Error during call to suggestCharts:', error);\n",
              "      }\n",
              "      quickchartButtonEl.classList.remove('colab-df-spinner');\n",
              "      quickchartButtonEl.classList.add('colab-df-quickchart-complete');\n",
              "    }\n",
              "    (() => {\n",
              "      let quickchartButtonEl =\n",
              "        document.querySelector('#df-7430310b-3123-4991-8637-88c22a5b77b1 button');\n",
              "      quickchartButtonEl.style.display =\n",
              "        google.colab.kernel.accessAllowed ? 'block' : 'none';\n",
              "    })();\n",
              "  </script>\n",
              "</div>\n",
              "\n",
              "    </div>\n",
              "  </div>\n"
            ],
            "application/vnd.google.colaboratory.intrinsic+json": {
              "type": "dataframe",
              "variable_name": "df",
              "summary": "{\n  \"name\": \"df\",\n  \"rows\": 2985,\n  \"fields\": [\n    {\n      \"column\": \"min_metro\",\n      \"properties\": {\n        \"dtype\": \"number\",\n        \"std\": 116.54850423663848,\n        \"min\": 1.0,\n        \"max\": 2025.0,\n        \"num_unique_values\": 31,\n        \"samples\": [\n          1.0,\n          13.0,\n          14.0\n        ],\n        \"semantic_type\": \"\",\n        \"description\": \"\"\n      }\n    },\n    {\n      \"column\": \"area_total\",\n      \"properties\": {\n        \"dtype\": \"number\",\n        \"std\": 43.265204518042246,\n        \"min\": 9.0,\n        \"max\": 366.8,\n        \"num_unique_values\": 1171,\n        \"samples\": [\n          114.98,\n          63.86,\n          84.6\n        ],\n        \"semantic_type\": \"\",\n        \"description\": \"\"\n      }\n    },\n    {\n      \"column\": \"area_util\",\n      \"properties\": {\n        \"dtype\": \"number\",\n        \"std\": 28.438748064279718,\n        \"min\": 1.0,\n        \"max\": 241.0,\n        \"num_unique_values\": 760,\n        \"samples\": [\n          40.4,\n          5.5,\n          24.4\n        ],\n        \"semantic_type\": \"\",\n        \"description\": \"\"\n      }\n    },\n    {\n      \"column\": \"andar\",\n      \"properties\": {\n        \"dtype\": \"number\",\n        \"std\": 9.637361660057774,\n        \"min\": 1.0,\n        \"max\": 72.0,\n        \"num_unique_values\": 60,\n        \"samples\": [\n          11.0,\n          23.0,\n          45.0\n        ],\n        \"semantic_type\": \"\",\n        \"description\": \"\"\n      }\n    },\n    {\n      \"column\": \"novo\",\n      \"properties\": {\n        \"dtype\": \"number\",\n        \"std\": 0.4684376733449304,\n        \"min\": 0.0,\n        \"max\": 1.0,\n        \"num_unique_values\": 2,\n        \"samples\": [\n          0.0,\n          1.0\n        ],\n        \"semantic_type\": \"\",\n        \"description\": \"\"\n      }\n    },\n    {\n      \"column\": \"pe_direito\",\n      \"properties\": {\n        \"dtype\": \"number\",\n        \"std\": 0.7178423154014378,\n        \"min\": 2.0,\n        \"max\": 30.0,\n        \"num_unique_values\": 94,\n        \"samples\": [\n          4.1,\n          5.05\n        ],\n        \"semantic_type\": \"\",\n        \"description\": \"\"\n      }\n    },\n    {\n      \"column\": \"numero_comodos\",\n      \"properties\": {\n        \"dtype\": \"number\",\n        \"std\": 1.1294738683068266,\n        \"min\": 1.0,\n        \"max\": 4.0,\n        \"num_unique_values\": 4,\n        \"samples\": [\n          1.0,\n          4.0\n        ],\n        \"semantic_type\": \"\",\n        \"description\": \"\"\n      }\n    }\n  ]\n}"
            }
          },
          "metadata": {},
          "execution_count": 2
        }
      ]
    },
    {
      "cell_type": "code",
      "source": [
        "# Selecionar atributos e alvo\n",
        "X = df.drop(columns = ['novo'])  # 'novo' é a variável alvo\n",
        "y = df['novo']  # 'novo' é a variável alvo"
      ],
      "metadata": {
        "id": "frtaTIOrmU9T"
      },
      "execution_count": 3,
      "outputs": []
    },
    {
      "cell_type": "markdown",
      "source": [
        "### Dividir os dados em conjuntos de treinamento e teste"
      ],
      "metadata": {
        "id": "jWqrQMDcmm6l"
      }
    },
    {
      "cell_type": "code",
      "source": [
        "# Divisão dos dados em conjuntos de treinamento e teste\n",
        "X_treino, X_teste, y_treino, y_teste = train_test_split(X, y, test_size = 0.3, random_state = 42)"
      ],
      "metadata": {
        "id": "R_ViI2C7mqXq"
      },
      "execution_count": 4,
      "outputs": []
    },
    {
      "cell_type": "markdown",
      "source": [
        "### Treinar o Modelo KNN\n",
        "\n",
        "Instanciando e treinando o modelo."
      ],
      "metadata": {
        "id": "fMH6Ztshmx5o"
      }
    },
    {
      "cell_type": "code",
      "source": [
        "# Instanciar o modelo KNN\n",
        "knn = KNeighborsClassifier(n_neighbors = 5)  # Aqui n_neighbors é o número de vizinhos. Pode ser ajustado.\n",
        "\n",
        "# Treinar o modelo\n",
        "knn.fit(X_treino, y_treino)\n"
      ],
      "metadata": {
        "colab": {
          "base_uri": "https://localhost:8080/",
          "height": 75
        },
        "id": "NvOIFt-bm2W5",
        "outputId": "5fdd7276-0de2-47a6-fb7b-688381e89391"
      },
      "execution_count": 5,
      "outputs": [
        {
          "output_type": "execute_result",
          "data": {
            "text/plain": [
              "KNeighborsClassifier()"
            ],
            "text/html": [
              "<style>#sk-container-id-1 {color: black;background-color: white;}#sk-container-id-1 pre{padding: 0;}#sk-container-id-1 div.sk-toggleable {background-color: white;}#sk-container-id-1 label.sk-toggleable__label {cursor: pointer;display: block;width: 100%;margin-bottom: 0;padding: 0.3em;box-sizing: border-box;text-align: center;}#sk-container-id-1 label.sk-toggleable__label-arrow:before {content: \"▸\";float: left;margin-right: 0.25em;color: #696969;}#sk-container-id-1 label.sk-toggleable__label-arrow:hover:before {color: black;}#sk-container-id-1 div.sk-estimator:hover label.sk-toggleable__label-arrow:before {color: black;}#sk-container-id-1 div.sk-toggleable__content {max-height: 0;max-width: 0;overflow: hidden;text-align: left;background-color: #f0f8ff;}#sk-container-id-1 div.sk-toggleable__content pre {margin: 0.2em;color: black;border-radius: 0.25em;background-color: #f0f8ff;}#sk-container-id-1 input.sk-toggleable__control:checked~div.sk-toggleable__content {max-height: 200px;max-width: 100%;overflow: auto;}#sk-container-id-1 input.sk-toggleable__control:checked~label.sk-toggleable__label-arrow:before {content: \"▾\";}#sk-container-id-1 div.sk-estimator input.sk-toggleable__control:checked~label.sk-toggleable__label {background-color: #d4ebff;}#sk-container-id-1 div.sk-label input.sk-toggleable__control:checked~label.sk-toggleable__label {background-color: #d4ebff;}#sk-container-id-1 input.sk-hidden--visually {border: 0;clip: rect(1px 1px 1px 1px);clip: rect(1px, 1px, 1px, 1px);height: 1px;margin: -1px;overflow: hidden;padding: 0;position: absolute;width: 1px;}#sk-container-id-1 div.sk-estimator {font-family: monospace;background-color: #f0f8ff;border: 1px dotted black;border-radius: 0.25em;box-sizing: border-box;margin-bottom: 0.5em;}#sk-container-id-1 div.sk-estimator:hover {background-color: #d4ebff;}#sk-container-id-1 div.sk-parallel-item::after {content: \"\";width: 100%;border-bottom: 1px solid gray;flex-grow: 1;}#sk-container-id-1 div.sk-label:hover label.sk-toggleable__label {background-color: #d4ebff;}#sk-container-id-1 div.sk-serial::before {content: \"\";position: absolute;border-left: 1px solid gray;box-sizing: border-box;top: 0;bottom: 0;left: 50%;z-index: 0;}#sk-container-id-1 div.sk-serial {display: flex;flex-direction: column;align-items: center;background-color: white;padding-right: 0.2em;padding-left: 0.2em;position: relative;}#sk-container-id-1 div.sk-item {position: relative;z-index: 1;}#sk-container-id-1 div.sk-parallel {display: flex;align-items: stretch;justify-content: center;background-color: white;position: relative;}#sk-container-id-1 div.sk-item::before, #sk-container-id-1 div.sk-parallel-item::before {content: \"\";position: absolute;border-left: 1px solid gray;box-sizing: border-box;top: 0;bottom: 0;left: 50%;z-index: -1;}#sk-container-id-1 div.sk-parallel-item {display: flex;flex-direction: column;z-index: 1;position: relative;background-color: white;}#sk-container-id-1 div.sk-parallel-item:first-child::after {align-self: flex-end;width: 50%;}#sk-container-id-1 div.sk-parallel-item:last-child::after {align-self: flex-start;width: 50%;}#sk-container-id-1 div.sk-parallel-item:only-child::after {width: 0;}#sk-container-id-1 div.sk-dashed-wrapped {border: 1px dashed gray;margin: 0 0.4em 0.5em 0.4em;box-sizing: border-box;padding-bottom: 0.4em;background-color: white;}#sk-container-id-1 div.sk-label label {font-family: monospace;font-weight: bold;display: inline-block;line-height: 1.2em;}#sk-container-id-1 div.sk-label-container {text-align: center;}#sk-container-id-1 div.sk-container {/* jupyter's `normalize.less` sets `[hidden] { display: none; }` but bootstrap.min.css set `[hidden] { display: none !important; }` so we also need the `!important` here to be able to override the default hidden behavior on the sphinx rendered scikit-learn.org. See: https://github.com/scikit-learn/scikit-learn/issues/21755 */display: inline-block !important;position: relative;}#sk-container-id-1 div.sk-text-repr-fallback {display: none;}</style><div id=\"sk-container-id-1\" class=\"sk-top-container\"><div class=\"sk-text-repr-fallback\"><pre>KNeighborsClassifier()</pre><b>In a Jupyter environment, please rerun this cell to show the HTML representation or trust the notebook. <br />On GitHub, the HTML representation is unable to render, please try loading this page with nbviewer.org.</b></div><div class=\"sk-container\" hidden><div class=\"sk-item\"><div class=\"sk-estimator sk-toggleable\"><input class=\"sk-toggleable__control sk-hidden--visually\" id=\"sk-estimator-id-1\" type=\"checkbox\" checked><label for=\"sk-estimator-id-1\" class=\"sk-toggleable__label sk-toggleable__label-arrow\">KNeighborsClassifier</label><div class=\"sk-toggleable__content\"><pre>KNeighborsClassifier()</pre></div></div></div></div></div>"
            ]
          },
          "metadata": {},
          "execution_count": 5
        }
      ]
    },
    {
      "cell_type": "markdown",
      "source": [
        "### Fazendo previsões\n",
        "\n",
        "Usando o modelo treinado pra fazer previsões sobre o conjunto de teste."
      ],
      "metadata": {
        "id": "-0GPfbZ_nJaB"
      }
    },
    {
      "cell_type": "code",
      "source": [
        "# Previsões\n",
        "y_pred = knn.predict(X_teste)"
      ],
      "metadata": {
        "id": "91XIsucCnOiy"
      },
      "execution_count": 6,
      "outputs": []
    },
    {
      "cell_type": "markdown",
      "source": [
        "### Avaliar o Modelo\n",
        "\n",
        "Avaliando o desempenho do modelo usando métricas de acurácia e relatório de classificação."
      ],
      "metadata": {
        "id": "PO3RaclxnQ-5"
      }
    },
    {
      "cell_type": "code",
      "source": [
        "# Avaliação do modelo\n",
        "accuracy = accuracy_score(y_teste, y_pred)\n",
        "classification_rep = classification_report(y_teste, y_pred)\n",
        "\n",
        "print(f\"Acurácia: {accuracy:.2f}\")\n",
        "print()\n",
        "print(f\"Resultado da classificação:\\n{classification_rep}\")\n"
      ],
      "metadata": {
        "colab": {
          "base_uri": "https://localhost:8080/"
        },
        "id": "bXvxP4yLnYhp",
        "outputId": "fbc5c2a6-36d1-4912-c538-6130d200cfe9"
      },
      "execution_count": 7,
      "outputs": [
        {
          "output_type": "stream",
          "name": "stdout",
          "text": [
            "Acurácia: 0.80\n",
            "\n",
            "Resultado da classificação:\n",
            "              precision    recall  f1-score   support\n",
            "\n",
            "         0.0       0.82      0.87      0.85       580\n",
            "         1.0       0.74      0.66      0.69       316\n",
            "\n",
            "    accuracy                           0.80       896\n",
            "   macro avg       0.78      0.76      0.77       896\n",
            "weighted avg       0.79      0.80      0.79       896\n",
            "\n"
          ]
        }
      ]
    },
    {
      "cell_type": "markdown",
      "source": [
        "### Visualizar os resultados\n",
        "\n",
        "Criamos um modelo de visualização para entender melhor os resultados."
      ],
      "metadata": {
        "id": "lU3WXwWyofbi"
      }
    },
    {
      "cell_type": "code",
      "source": [
        "# Matriz de Confusão\n",
        "from sklearn.metrics import confusion_matrix\n",
        "\n",
        "conf_matrix = confusion_matrix(y_teste, y_pred)\n",
        "sns.heatmap(conf_matrix, annot = True, fmt = \"d\", cmap = \"Greens\", xticklabels = ['Não Novo', 'Novo'], yticklabels = ['Não Novo', 'Novo'])\n",
        "plt.xlabel('Predito')\n",
        "plt.ylabel('Atual')\n",
        "plt.title('Matriz de Confusão')\n",
        "plt.show()\n"
      ],
      "metadata": {
        "colab": {
          "base_uri": "https://localhost:8080/",
          "height": 472
        },
        "id": "zQNYr-4FooHs",
        "outputId": "9cad05f1-49ce-4dc6-a9c8-beef27dea0f3"
      },
      "execution_count": 8,
      "outputs": [
        {
          "output_type": "display_data",
          "data": {
            "text/plain": [
              "<Figure size 640x480 with 2 Axes>"
            ],
            "image/png": "[encoded data removed]"
          },
          "metadata": {}
        }
      ]
    },
    {
      "cell_type": "markdown",
      "source": [
        "\n",
        "## Interpretação dos Resultados\n",
        "\n",
        "\n",
        "\n",
        "\n"
      ],
      "metadata": {
        "id": "1TAET8lZs5uc"
      }
    },
    {
      "cell_type": "markdown",
      "source": [
        "#### Acurácia\n",
        "- **Acurácia de 80%**: O modelo prevê corretamente se um apartamento é novo ou não em 80% dos casos.\n",
        "\n",
        "#### Precisão e Revocação\n",
        "- **Classe 0 (apartamentos não novos)**:\n",
        "  - **Precisão**: 0.82 - 82% das previsões que o modelo fez como \"não novo\" estão corretas.\n",
        "  - **Revocação**: 0.87 - 87% dos apartamentos que realmente não são novos foram identificados corretamente.\n",
        "  - **F1-Score**: 0.85 - Média harmônica entre precisão e revocação para a classe 0.\n",
        "\n",
        "- **Classe 1 (apartamentos novos)**:\n",
        "  - **Precisão**: 0.74 - 74% das previsões que o modelo fez como \"novo\" estão corretas.\n",
        "  - **Revocação**: 0.66 - 66% dos apartamentos que realmente são novos foram identificados corretamente.\n",
        "  - **F1-Score**: 0.69 - Média harmônica entre precisão e revocação para a classe 1.\n",
        "\n",
        "#### Desempenho do Modelo\n",
        "- **Boa precisão para ambas as classes**: O modelo está razoavelmente correto quando prevê tanto apartamentos novos quanto não novos.\n",
        "- **Revocação aceitável**: O modelo consegue identificar uma boa parte dos apartamentos novos e não novos, embora ainda tenha um pouco de tendência em identificar mais corretamente apartamentos não novos.\n",
        "- **Desempenho Geral**: O modelo apresenta um desempenho equilibrado, com uma acurácia geral de 80%.\n",
        "\n",
        "### Conclusão\n",
        "- **Desempenho Satisfatório**: Comparado com os resultados anteriores, o modelo mantém um desempenho equilibrado entre as classes, com uma ligeira tendência a identificar melhor apartamentos não novos.\n",
        "\n",
        "- **Necessidade de Melhorias Contínuas**:\n",
        "  - **Refinamento de Dados**: Continuar a melhorar a qualidade das features e equilibrar ainda mais os dados pode ser benéfico.\n",
        "  - **Modelo Alternativo**: Explorar outros modelos de classificação para ver se há melhorias adicionais a serem feitas.\n",
        "  - **Feature Engineering**: Continuar criando e ajustando features para capturar melhor as características dos apartamentos novos e não novos.\n",
        "\n",
        "### Próximos Passos\n",
        "1. **Análise de Balanceamento de Dados**: Verificar se a distribuição das classes ainda está equilibrada e aplicar técnicas adicionais de balanceamento, se necessário.\n",
        "2. **Exploração de Outros Modelos**: Testar e comparar outros algoritmos de classificação para continuar melhorando o desempenho.\n",
        "3. **Feature Engineering**: Continuar melhorando a qualidade das features para ajudar na classificação.\n",
        "\n"
      ],
      "metadata": {
        "id": "jaoyavRzs9Zz"
      }
    },
    {
      "cell_type": "markdown",
      "source": [
        "### Pontos de Melhoria"
      ],
      "metadata": {
        "id": "GQqG6SA7s_0c"
      }
    },
    {
      "cell_type": "markdown",
      "source": [
        "\n",
        "- Ajuste de Hiperparâmetros: Experimente diferentes valores para n_neighbors para ver se a performance melhora.\n",
        "- Normalização dos Dados: A performance do KNN pode melhorar se as características forem normalizadas, já que ele é baseado na distância.\n",
        "- Análise de Classes Desbalanceadas: Se as classes estão desbalanceadas, considere técnicas de balanceamento como oversampling ou undersampling.\n"
      ],
      "metadata": {
        "id": "AKnII-fItBU7"
      }
    },
    {
      "cell_type": "markdown",
      "source": [
        "\n",
        "## Conclusão Final"
      ],
      "metadata": {
        "id": "gWbUydvZtCd8"
      }
    },
    {
      "cell_type": "markdown",
      "source": [
        "\n",
        "Com base nos resultados obtidos:\n",
        "\n",
        "- Se a acurácia, precisão, recall e F1-score forem altos, podemos inferir que o modelo KNN está performando bem e é eficaz para classificar apartamentos como novos ou não novos.\n",
        "- A matriz de confusão corroborará essas inferências mostrando poucas previsões incorretas.\n",
        "\n",
        "Se os resultados não forem satisfatórios, pode ser necessário ajustar o modelo ou explorar outras técnicas de classificação para melhorar a performance.\n"
      ],
      "metadata": {
        "id": "BNVHP001tDpM"
      }
    },
    {
      "cell_type": "markdown",
      "source": [
        "## Explicação (Acurácia, Relatório de Classificação e Matriz de Confusão)"
      ],
      "metadata": {
        "id": "b60d2nhmqzhz"
      }
    },
    {
      "cell_type": "markdown",
      "source": [
        "\n",
        "1. Acurácia do Modelo\n",
        "```\n",
        "accuracy = accuracy_score(y_test, y_pred)\n",
        "print(f\"Accuracy: {accuracy}\")\n",
        "```\n",
        "\n",
        "\n",
        "A acurácia é a proporção de previsões corretas em relação ao total de previsões feitas. Uma acurácia alta indica que o modelo está fazendo previsões corretas na maioria das vezes. No entanto, a acurácia sozinha não é suficiente para avaliar a performance de um modelo, especialmente em casos de classes desbalanceadas.\n",
        "\n",
        "2. Relatório de Classificação\n",
        "```\n",
        "classification_rep = classification_report(y_test, y_pred)\n",
        "print(f\"Classification Report:\\n{classification_rep}\")\n",
        "```\n",
        "O relatório de classificação fornece métricas detalhadas:\n",
        "\n",
        "- Precisão (Precision): Proporção de verdadeiros positivos sobre o total de elementos classificados como positivos.\n",
        "- Revocação (Recall): Proporção de verdadeiros positivos sobre o total de elementos que são realmente positivos.\n",
        "- F1-Score: Média harmônica entre precisão e recall, balanceando ambos.\n",
        "- Suporte (Support): Número de ocorrências de cada classe no conjunto de teste.\n",
        "3. Matriz de Confusão\n",
        "\n",
        "```\n",
        "conf_matrix = confusion_matrix(y_test, y_pred)\n",
        "sns.heatmap(conf_matrix, annot=True, fmt=\"d\", cmap=\"Blues\", xticklabels=['Não Novo', 'Novo'], yticklabels=['Não Novo', 'Novo'])\n",
        "plt.xlabel('Predicted')\n",
        "plt.ylabel('Actual')\n",
        "plt.title('Matriz de Confusão')\n",
        "plt.show()\n",
        "```\n",
        "\n",
        "A matriz de confusão mostra o número de previsões corretas e incorretas divididas por classe:\n",
        "\n",
        "- True Positives (TP): Apartamentos novos corretamente classificados como novos.\n",
        "- True Negatives (TN): Apartamentos não novos corretamente classificados como não novos.\n",
        "- False Positives (FP): Apartamentos não novos incorretamente classificados como novos.\n",
        "- False Negatives (FN): Apartamentos novos incorretamente classificados como não novos.\n",
        "\n"
      ],
      "metadata": {
        "id": "RNtzrazcq1gT"
      }
    }
  ]
}